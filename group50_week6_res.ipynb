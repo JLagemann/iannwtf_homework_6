{
  "nbformat": 4,
  "nbformat_minor": 0,
  "metadata": {
    "accelerator": "GPU",
    "colab": {
      "name": "Copy of group50_week6_res.ipynb",
      "provenance": [],
      "collapsed_sections": []
    },
    "kernelspec": {
      "display_name": "Python 3",
      "name": "python3"
    }
  },
  "cells": [
    {
      "cell_type": "code",
      "metadata": {
        "id": "VSv8ioAqauSW"
      },
      "source": [
        "%tensorflow_version 2.x\n",
        "import tensorflow as tf\n",
        "from matplotlib import pyplot as plt\n",
        "import numpy as np\n",
        "from tensorflow.keras.layers import Conv2D, MaxPool2D, BatchNormalization, Dropout, GlobalAveragePooling2D, Dense, AveragePooling2D, Activation\n",
        "from tensorflow.keras.preprocessing.image import ImageDataGenerator\n",
        "from tensorflow.keras import layers\n",
        "from tensorflow.keras.utils import normalize, to_categorical\n",
        "from tensorflow.keras.regularizers import L2\n"
      ],
      "execution_count": null,
      "outputs": []
    },
    {
      "cell_type": "markdown",
      "metadata": {
        "id": "PFOYZXIc7xMq"
      },
      "source": [
        "\n",
        "\n",
        "```\n",
        "# This is formatted as code\n",
        "```\n",
        "\n",
        "*Stolen* Input Pipeline"
      ]
    },
    {
      "cell_type": "code",
      "metadata": {
        "id": "UcpW3P9J76TX",
        "colab": {
          "base_uri": "https://localhost:8080/"
        },
        "outputId": "7e42b701-4aa6-43b5-8d33-59b2f3fe2a1a"
      },
      "source": [
        "(train_images, train_labels), (test_images, test_labels) = tf.keras.datasets.cifar10.load_data()"
      ],
      "execution_count": null,
      "outputs": [
        {
          "output_type": "stream",
          "text": [
            "Downloading data from https://www.cs.toronto.edu/~kriz/cifar-10-python.tar.gz\n",
            "170500096/170498071 [==============================] - 2s 0us/step\n"
          ],
          "name": "stdout"
        }
      ]
    },
    {
      "cell_type": "code",
      "metadata": {
        "id": "-_UFm_LT73Jk"
      },
      "source": [
        "# Input Pipeline\n",
        "\n",
        "# Hyperparameters\n",
        "batch_size = 64\n",
        "prefetch_size = tf.data.experimental.AUTOTUNE\n",
        "\n",
        "# tf.data.Dataset.from_tensor_slices creates a tf.dataset from a tensor. The elements of the dataset are slices of the first tensor dimension\n",
        "train_dataset_images = tf.data.Dataset.from_tensor_slices(train_images)\n",
        "\n",
        "#we normalize our data and center the pixel values around zero\n",
        "train_dataset_images_centered = train_dataset_images.map(lambda img : tf.cast(2*(img/255)-1, tf.float32))\n",
        "\n",
        "train_dataset_targets = tf.data.Dataset.from_tensor_slices(train_labels)\n",
        "# we want the labels to be onehot encoded\n",
        "train_dataset_targets = train_dataset_targets.map(lambda t : tf.reshape(tf.one_hot(t, 10), (-1,)))\n",
        "\n",
        "\n",
        "# zip together input and labels\n",
        "train_dataset = tf.data.Dataset.zip((train_dataset_images_centered, train_dataset_targets))\n",
        "train_dataset = train_dataset.shuffle(buffer_size=128)\n",
        "train_dataset = train_dataset.batch(batch_size)\n",
        "train_dataset = train_dataset.prefetch(prefetch_size)\n",
        "\n",
        "# repeat for the test dataset\n",
        "test_dataset_images = tf.data.Dataset.from_tensor_slices(test_images)\n",
        "test_dataset_images_centered = test_dataset_images.map(lambda img : tf.cast(2*(img/255)-1, tf.float32))\n",
        "test_dataset_targets = tf.data.Dataset.from_tensor_slices(test_labels)\n",
        "test_dataset_targets = test_dataset_targets.map(lambda t : tf.reshape(tf.one_hot(t, 10), (-1,)))\n",
        "\n",
        "test_dataset = tf.data.Dataset.zip((test_dataset_images_centered, test_dataset_targets))\n",
        "test_dataset = test_dataset.shuffle(buffer_size=128)\n",
        "test_dataset = test_dataset.batch(batch_size)\n",
        "test_dataset = test_dataset.prefetch(prefetch_size)"
      ],
      "execution_count": null,
      "outputs": []
    },
    {
      "cell_type": "markdown",
      "metadata": {
        "id": "JpKHFxUR_R1E"
      },
      "source": [
        "**Residual Block** \\\\\n",
        "A Residual Block for a network: It consists of a bottleneck layer that reduces the dimension of the input (in our case to 32) and afterwards a repeated sequence of an Convolutional Layer with Batch Normalization and the activation function. Finaly, the activation is brought back to its original size with a nother Convolutional Layer and the activation *plus* the Residual Block's input is returned. "
      ]
    },
    {
      "cell_type": "code",
      "metadata": {
        "id": "2pD02mgMSt49"
      },
      "source": [
        "\n",
        "class ResidualBlock(tf.keras.layers.Layer):\n",
        "  def __init__(self, length = 1, channels= 64):\n",
        "    super(ResidualBlock, self).__init__()\n",
        "    self.layers_list = [\n",
        "                        Conv2D(filters= 32, kernel_size=(1,1)), \n",
        "                        BatchNormalization(), \n",
        "                        Activation('relu')\n",
        "    ]\n",
        "    for i in range(length - 1):\n",
        "      self.layers_list.append(Conv2D(filters = channels, kernel_size = (3,3), padding = \"same\", kernel_regularizer= L2()))\n",
        "      self.layers_list.append(BatchNormalization())\n",
        "      self.layers_list.append(Activation('relu'))\n",
        "    \n",
        "    ## This layer gives the activation its original size back \n",
        "    self.layers_list.append(Conv2D(filters = channels, kernel_size = (3,3), padding = \"same\"))\n",
        "    self.layers_list.append(BatchNormalization())\n",
        "    self.layers_list.append(Activation('relu'))\n",
        "\n",
        "  def call(self, x, training = False): \n",
        "    y = x\n",
        "    for layer in self.layers_list: \n",
        "      x = layer(x, training = training)\n",
        "    return y + x"
      ],
      "execution_count": null,
      "outputs": []
    },
    {
      "cell_type": "markdown",
      "metadata": {
        "id": "pVx4GVBgA3Vb"
      },
      "source": [
        "**Residual Network** \\\\\n",
        "\n",
        "The implementation of a residual Network, that starts with a simple convolutional layer and then adds a specified number of Residual Blocks to the network. The output is according to the suggestion the sheet a Conv-Layer, a BatchNorm layer, an Activation function and a pooling layer \n"
      ]
    },
    {
      "cell_type": "code",
      "metadata": {
        "id": "gaHRZRPtKooD"
      },
      "source": [
        "class ResNet(tf.keras.Model):\n",
        "  def __init__(self, block_num = 5, block_length = 3, block_channels= 32, p=.2):\n",
        "\n",
        "    super(ResNet, self).__init__()\n",
        "\n",
        "    self.layers_list = [\n",
        "          # Our data augmentation\n",
        "          layers.experimental.preprocessing.RandomFlip(\"horizontal\", input_shape=(32,32,3)),\n",
        "          layers.experimental.preprocessing.RandomRotation(0.1),\n",
        "          layers.experimental.preprocessing.RandomZoom(0.1),\n",
        "\n",
        "          Conv2D(filters= 64, kernel_size= 3, padding= 'same', input_shape = (32,32,3)), \n",
        "          BatchNormalization(),\n",
        "          Activation('relu')\n",
        "    ]\n",
        "\n",
        "    for _ in range(block_num):\n",
        "      self.layers_list.append(ResidualBlock(channels= block_channels, length= block_length))\n",
        "      self.layers_list.append(MaxPool2D(padding='same'))\n",
        "      self.layers_list.append(Dropout(p))\n",
        "\n",
        "\n",
        "    self.layers_list.append(Conv2D(filters = 128, kernel_size = 3, padding = 'same'))\n",
        "    self.layers_list.append(BatchNormalization()) \n",
        "    self.layers_list.append(Activation('relu'))\n",
        "    self.layers_list.append(GlobalAveragePooling2D())\n",
        "    self.layers_list.append(Dense(units= 10, activation= 'softmax'))\n",
        "\n",
        "  def call(self, x, training = False): \n",
        "    for layer in self.layers_list: \n",
        "      x = layer(x, training = training)\n",
        "    return x"
      ],
      "execution_count": null,
      "outputs": []
    },
    {
      "cell_type": "markdown",
      "metadata": {
        "id": "hzoeF0v-69bI"
      },
      "source": [
        "Training and testing step "
      ]
    },
    {
      "cell_type": "code",
      "metadata": {
        "id": "KAGadOb367v5"
      },
      "source": [
        "def train_step(model, input, target, loss_function, optimizer):\n",
        "  # loss_object and optimizer_object are instances of respective tensorflow classes\n",
        "  with tf.GradientTape() as tape:\n",
        "    prediction = model(input, training=True)\n",
        "    loss = loss_function(target, prediction)\n",
        "    gradients = tape.gradient(loss, model.trainable_variables)\n",
        "  optimizer.apply_gradients(zip(gradients, model.trainable_variables))\n",
        "  return loss \n",
        "\n",
        "def test(model, test_data, loss_function):\n",
        "  # test over complete test data\n",
        "\n",
        "  test_accuracy_aggregator = []\n",
        "  test_loss_aggregator = []\n",
        "  for (input, target) in test_data:\n",
        "    prediction = model(input)\n",
        "    sample_test_loss = loss_function(target, prediction)\n",
        "    sample_test_accuracy =  np.argmax(target, axis=1) == np.argmax(prediction, axis=1)\n",
        "    sample_test_accuracy = np.mean(sample_test_accuracy)\n",
        "    test_loss_aggregator.append(sample_test_loss.numpy())\n",
        "    test_accuracy_aggregator.append(np.mean(sample_test_accuracy))\n",
        "\n",
        "  test_loss = np.mean(test_loss_aggregator)\n",
        "  test_accuracy = np.mean(test_accuracy_aggregator)\n",
        "\n",
        "  return test_loss, test_accuracy"
      ],
      "execution_count": null,
      "outputs": []
    },
    {
      "cell_type": "markdown",
      "metadata": {
        "id": "YQyFyg-K7AfF"
      },
      "source": [
        "Training (stolen as well) "
      ]
    },
    {
      "cell_type": "code",
      "metadata": {
        "id": "H1k1Hg1w7DWa"
      },
      "source": [
        "from IPython.display import clear_output\n",
        "\n",
        "def plot_performance(total_epochs, train_loss, test_loss, accuracies, timing):\n",
        "    \"\"\"Helper function to plot the models performance inline during and after training\"\"\"\n",
        "    clear_output(wait=True) # Clear the previous graph\n",
        "    fig, ax = plt.subplots(1,2, figsize=(12,6))\n",
        "    # Estimation for remaining time\n",
        "    epoch = len(train_loss) - 1\n",
        "    remaining_time = (timing[1] - timing[0]) * (total_epochs - epoch)\n",
        "    fig.suptitle(f\"Epoch {epoch} / {total_epochs} - Remaining Training Time: {time.strftime('%M:%S', time.gmtime(remaining_time))} min\", fontsize=16)\n",
        "\n",
        "    ax[0].plot(train_loss)\n",
        "    ax[0].plot(test_loss)\n",
        "    ax[0].legend([\"training\", \"test\"])\n",
        "    ax[0].set(xlabel=\"Training Steps\", ylabel=\"Loss\")\n",
        "    ax[1].plot(accuracies)\n",
        "    ax[1].set(xlabel=\"Training Steps\", ylabel=\"Accuracy\", title=f\"max accuracy: {max(accuracies)*100:.2f}%\")\n",
        "\n",
        "    plt.show()\n"
      ],
      "execution_count": null,
      "outputs": []
    },
    {
      "cell_type": "code",
      "metadata": {
        "colab": {
          "base_uri": "https://localhost:8080/",
          "height": 431
        },
        "id": "MHZjqrQO7KJS",
        "outputId": "13e402d1-abc2-4769-eaea-8e6b9a81ce51"
      },
      "source": [
        "import time\n",
        "%matplotlib inline\n",
        "tf.keras.backend.clear_session()\n",
        "\n",
        "### Hyperparameters\n",
        "num_epochs = 30\n",
        "learning_rate = 0.001\n",
        "running_average_factor = 0.95\n",
        "\n",
        "# Initialize the model.\n",
        "model = ResNet(block_num= 3, block_length= 3, block_channels= 64)\n",
        "# Initialize the loss: categorical cross entropy. Check out 'tf.keras.losses'.\n",
        "cross_entropy_loss = tf.keras.losses.CategoricalCrossentropy()\n",
        "# Initialize the optimizer: Adam with default parameters. Check out 'tf.keras.optimizers'\n",
        "optimizer = tf.keras.optimizers.Adam(learning_rate)\n",
        "\n",
        "# Initialize lists for later visualization.\n",
        "train_losses = []\n",
        "\n",
        "test_losses = []\n",
        "test_accuracies = []\n",
        "\n",
        "#testing once before we begin\n",
        "test_loss, test_accuracy = test(model, test_dataset, cross_entropy_loss)\n",
        "test_losses.append(test_loss)\n",
        "test_accuracies.append(test_accuracy)\n",
        "\n",
        "#check how model performs on train data once before we begin\n",
        "train_loss, _ = test(model, train_dataset, cross_entropy_loss)\n",
        "train_losses.append(train_loss)\n",
        "\n",
        "# We train for num_epochs epochs.\n",
        "for epoch in range(num_epochs):\n",
        "    start = time.perf_counter()\n",
        "    \n",
        "    #print('Epoch: __ ' + str(epoch))\n",
        "    #training (and checking in with training)\n",
        "    running_average = 0\n",
        "    for (input,target) in train_dataset:\n",
        "        train_loss = train_step(model, input, target, cross_entropy_loss, optimizer)\n",
        "        running_average = running_average_factor * running_average  + (1 - running_average_factor) * train_loss\n",
        "    train_losses.append(running_average)\n",
        "\n",
        "    #testing\n",
        "    test_loss, test_accuracy = test(model, test_dataset, cross_entropy_loss)\n",
        "    test_losses.append(test_loss)\n",
        "    test_accuracies.append(test_accuracy)\n",
        "    \n",
        "    end = time.perf_counter()\n",
        "    plot_performance(num_epochs, train_losses, test_losses, test_accuracies, (start, end))\n"
      ],
      "execution_count": 8,
      "outputs": [
        {
          "output_type": "display_data",
          "data": {
            "image/png": "[encoded data removed]",
            "text/plain": [
              "<Figure size 864x432 with 2 Axes>"
            ]
          },
          "metadata": {
            "tags": [],
            "needs_background": "light"
          }
        }
      ]
    },
    {
      "cell_type": "code",
      "metadata": {
        "id": "UzP3Y5fwOw1t",
        "colab": {
          "base_uri": "https://localhost:8080/"
        },
        "outputId": "bf98fc87-83d3-4e68-eb1c-3d2d435e0745"
      },
      "source": [
        "model.summary()"
      ],
      "execution_count": 9,
      "outputs": [
        {
          "output_type": "stream",
          "text": [
            "Model: \"res_net\"\n",
            "_________________________________________________________________\n",
            "Layer (type)                 Output Shape              Param #   \n",
            "=================================================================\n",
            "random_flip (RandomFlip)     multiple                  0         \n",
            "_________________________________________________________________\n",
            "random_rotation (RandomRotat multiple                  0         \n",
            "_________________________________________________________________\n",
            "random_zoom (RandomZoom)     multiple                  0         \n",
            "_________________________________________________________________\n",
            "conv2d (Conv2D)              multiple                  1792      \n",
            "_________________________________________________________________\n",
            "batch_normalization (BatchNo multiple                  256       \n",
            "_________________________________________________________________\n",
            "activation (Activation)      multiple                  0         \n",
            "_________________________________________________________________\n",
            "residual_block (ResidualBloc multiple                  95328     \n",
            "_________________________________________________________________\n",
            "max_pooling2d (MaxPooling2D) multiple                  0         \n",
            "_________________________________________________________________\n",
            "dropout (Dropout)            multiple                  0         \n",
            "_________________________________________________________________\n",
            "residual_block_1 (ResidualBl multiple                  95328     \n",
            "_________________________________________________________________\n",
            "max_pooling2d_1 (MaxPooling2 multiple                  0         \n",
            "_________________________________________________________________\n",
            "dropout_1 (Dropout)          multiple                  0         \n",
            "_________________________________________________________________\n",
            "residual_block_2 (ResidualBl multiple                  95328     \n",
            "_________________________________________________________________\n",
            "max_pooling2d_2 (MaxPooling2 multiple                  0         \n",
            "_________________________________________________________________\n",
            "dropout_2 (Dropout)          multiple                  0         \n",
            "_________________________________________________________________\n",
            "conv2d_13 (Conv2D)           multiple                  73856     \n",
            "_________________________________________________________________\n",
            "batch_normalization_13 (Batc multiple                  512       \n",
            "_________________________________________________________________\n",
            "activation_13 (Activation)   multiple                  0         \n",
            "_________________________________________________________________\n",
            "global_average_pooling2d (Gl multiple                  0         \n",
            "_________________________________________________________________\n",
            "dense (Dense)                multiple                  1290      \n",
            "=================================================================\n",
            "Total params: 363,690\n",
            "Trainable params: 361,962\n",
            "Non-trainable params: 1,728\n",
            "_________________________________________________________________\n"
          ],
          "name": "stdout"
        }
      ]
    }
  ]
}